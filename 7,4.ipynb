{
  "nbformat": 4,
  "nbformat_minor": 0,
  "metadata": {
    "colab": {
      "provenance": [],
      "authorship_tag": "ABX9TyNoZ064TeXifb5/KKeFUY1J",
      "include_colab_link": true
    },
    "kernelspec": {
      "name": "python3",
      "display_name": "Python 3"
    },
    "language_info": {
      "name": "python"
    }
  },
  "cells": [
    {
      "cell_type": "markdown",
      "metadata": {
        "id": "view-in-github",
        "colab_type": "text"
      },
      "source": [
        "<a href=\"https://colab.research.google.com/github/Vibenshus-Gymnasium-Pro/assignment-1-Jotaro3TP/blob/main/7%2C4.ipynb\" target=\"_parent\"><img src=\"https://colab.research.google.com/assets/colab-badge.svg\" alt=\"Open In Colab\"/></a>"
      ]
    },
    {
      "cell_type": "code",
      "execution_count": 2,
      "metadata": {
        "colab": {
          "base_uri": "https://localhost:8080/"
        },
        "id": "zeSUfKLntgXt",
        "outputId": "9fdcd8c3-efaf-4268-9377-528f80f24f13"
      },
      "outputs": [
        {
          "name": "stdout",
          "output_type": "stream",
          "text": [
            "\n",
            "what would would you love to have on a pizza\n",
            "Write 'done' to end program sausage\n",
            "sausage on pizza ? Sounds tasty!\n",
            "\n",
            "what would would you love to have on a pizza\n",
            "Write 'done' to end program done\n"
          ]
        }
      ],
      "source": [
        "toppings = \"\\nwhat would would you love to have on a pizza\"\n",
        "toppings += \"\\nWrite 'done' to end program \"\n",
        "\n",
        "while True:\n",
        "  topping = input(toppings)\n",
        "  if topping != 'done':\n",
        "    print(f\"{topping} on pizza ? Sounds tasty!\")\n",
        "  else:\n",
        "    break\n"
      ]
    }
  ]
}