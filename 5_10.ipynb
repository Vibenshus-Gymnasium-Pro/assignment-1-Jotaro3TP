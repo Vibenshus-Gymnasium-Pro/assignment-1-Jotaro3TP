{
  "nbformat": 4,
  "nbformat_minor": 0,
  "metadata": {
    "colab": {
      "provenance": [],
      "collapsed_sections": [],
      "authorship_tag": "ABX9TyMg/suFXmjjLM+iHNXzYUQu",
      "include_colab_link": true
    },
    "kernelspec": {
      "name": "python3",
      "display_name": "Python 3"
    },
    "language_info": {
      "name": "python"
    }
  },
  "cells": [
    {
      "cell_type": "markdown",
      "metadata": {
        "id": "view-in-github",
        "colab_type": "text"
      },
      "source": [
        "<a href=\"https://colab.research.google.com/github/Vibenshus-Gymnasium-Pro/assignment-1-Jotaro3TP/blob/main/5_10.ipynb\" target=\"_parent\"><img src=\"https://colab.research.google.com/assets/colab-badge.svg\" alt=\"Open In Colab\"/></a>"
      ]
    },
    {
      "cell_type": "code",
      "execution_count": null,
      "metadata": {
        "colab": {
          "base_uri": "https://localhost:8080/"
        },
        "id": "JH8O4Qy32UzY",
        "outputId": "fd71fd98-cb2d-4a48-b775-30644f976bc4"
      },
      "outputs": [
        {
          "output_type": "stream",
          "name": "stdout",
          "text": [
            "The username Omar123 is available\n",
            "The username Fabian123 is available\n",
            "The username Phillip123 is available\n",
            "The username Josef123 is available\n",
            "Sorry, the username Thore123is not available\n",
            "You have creted an account! Welcome.\n"
          ]
        }
      ],
      "source": [
        "Current_users = [\"Anna123\", \"Alfred123\", \"Dona123\", \"Sahel123\", \"Thore123\"]\n",
        "New_users = [\"Omar123\", \"Fabian123\", \"Phillip123\", \"Josef123\", \"Thore123\"]\n",
        "for New_users in New_users:\n",
        " if New_users in Current_users:\n",
        "  print(\"Sorry, the username \" + New_users + \"is not available\")\n",
        " else:\n",
        "  print(\"The username \" + New_users + \" is available\")\n",
        "\n",
        "print(\"You have creted an account! Welcome.\")\n"
      ]
    },
    {
      "cell_type": "markdown",
      "source": [],
      "metadata": {
        "id": "vZctrhao8uFC"
      }
    }
  ]
}