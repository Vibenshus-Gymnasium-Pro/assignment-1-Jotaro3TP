{
  "nbformat": 4,
  "nbformat_minor": 0,
  "metadata": {
    "colab": {
      "provenance": [],
      "authorship_tag": "ABX9TyN1Tg8gq89dvJ/CLWW7zifT",
      "include_colab_link": true
    },
    "kernelspec": {
      "name": "python3",
      "display_name": "Python 3"
    },
    "language_info": {
      "name": "python"
    }
  },
  "cells": [
    {
      "cell_type": "markdown",
      "metadata": {
        "id": "view-in-github",
        "colab_type": "text"
      },
      "source": [
        "<a href=\"https://colab.research.google.com/github/Vibenshus-Gymnasium-Pro/assignment-1-Jotaro3TP/blob/main/Class_succesfull.ipynb\" target=\"_parent\"><img src=\"https://colab.research.google.com/assets/colab-badge.svg\" alt=\"Open In Colab\"/></a>"
      ]
    },
    {
      "cell_type": "code",
      "execution_count": 12,
      "metadata": {
        "id": "RI3Y8EFEuXCI"
      },
      "outputs": [],
      "source": [
        "class Restaurant():\n",
        "  \"\"\" restuarant \"\"\"\n",
        "  def __init__(self, name, cuisine):\n",
        "    \"\"\"initialize name and cuisine\"\"\"\n",
        "    self.name = name \n",
        "    self.cuisine = cuisine\n",
        "    self.number_served = 0\n",
        "\n",
        "  def restaurant_descripe(self):\n",
        "    \"\"\"Restaurant description\"\"\"\n",
        "    print(self.name+\"is now sitting.\")\n",
        "  def restaurant_open(self):\n",
        "    print(self.name+\"rolled over.\")\n"
      ]
    },
    {
      "cell_type": "code",
      "source": [
        "restaurant_f = Restaurant(\"The Sunshine Restaurant\", \"Asian cuisine\")"
      ],
      "metadata": {
        "id": "a8BN5XMDubUx"
      },
      "execution_count": 13,
      "outputs": []
    },
    {
      "cell_type": "code",
      "source": [
        "print(\"The\", restaurant_f.name, \"is open\")\n",
        "print(\"The\", restaurant_f.name, \"serves\", restaurant_f.cuisine)"
      ],
      "metadata": {
        "colab": {
          "base_uri": "https://localhost:8080/"
        },
        "id": "oC5eYSa5ufgo",
        "outputId": "b36c70c4-75c0-4618-d091-2ba403064a67"
      },
      "execution_count": 14,
      "outputs": [
        {
          "output_type": "stream",
          "name": "stdout",
          "text": [
            "The The Sunshine Restaurant is open\n",
            "The The Sunshine Restaurant serves Asian cuisine\n"
          ]
        }
      ]
    }
  ]
}