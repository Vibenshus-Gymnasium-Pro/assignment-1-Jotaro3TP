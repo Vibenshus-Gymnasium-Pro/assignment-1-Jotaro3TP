{
  "nbformat": 4,
  "nbformat_minor": 0,
  "metadata": {
    "colab": {
      "provenance": [],
      "collapsed_sections": [],
      "authorship_tag": "ABX9TyPRrhJxbz1/EGpYSpMqyrOW",
      "include_colab_link": true
    },
    "kernelspec": {
      "name": "python3",
      "display_name": "Python 3"
    },
    "language_info": {
      "name": "python"
    }
  },
  "cells": [
    {
      "cell_type": "markdown",
      "metadata": {
        "id": "view-in-github",
        "colab_type": "text"
      },
      "source": [
        "<a href=\"https://colab.research.google.com/github/Vibenshus-Gymnasium-Pro/assignment-1-Jotaro3TP/blob/main/6%2C5.ipynb\" target=\"_parent\"><img src=\"https://colab.research.google.com/assets/colab-badge.svg\" alt=\"Open In Colab\"/></a>"
      ]
    },
    {
      "cell_type": "code",
      "execution_count": 2,
      "metadata": {
        "colab": {
          "base_uri": "https://localhost:8080/"
        },
        "id": "x1L21ccdJd9a",
        "outputId": "e98c6d3a-a2f1-4823-a0fe-3588f2518550"
      },
      "outputs": [
        {
          "output_type": "stream",
          "name": "stdout",
          "text": [
            "The London river runs through London\n",
            "The storaa river runs through Denmark\n",
            "The Yellow river runs through China\n",
            "London\n",
            "storaa\n",
            "Yellow\n",
            "London\n",
            "Denmark\n",
            "China\n"
          ]
        }
      ],
      "source": [
        "rivers = {\n",
        " 'London': 'London',\n",
        " 'storaa': 'Denmark',\n",
        " 'Yellow': 'China',\n",
        " }\n",
        "\n",
        "for a,b in rivers.items():\n",
        " print(f\"The {a} river runs through {b}\")\n",
        "\n",
        "for a,b in rivers.items():\n",
        "  print(a)\n",
        "\n",
        "for a,b in rivers.items():\n",
        "  print(b)\n"
      ]
    }
  ]
}