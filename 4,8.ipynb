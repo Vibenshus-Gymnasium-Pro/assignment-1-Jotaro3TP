{
  "nbformat": 4,
  "nbformat_minor": 0,
  "metadata": {
    "colab": {
      "provenance": [],
      "authorship_tag": "ABX9TyNyGBhcBDsr/q4p3iLOoLwx",
      "include_colab_link": true
    },
    "kernelspec": {
      "name": "python3",
      "display_name": "Python 3"
    },
    "language_info": {
      "name": "python"
    }
  },
  "cells": [
    {
      "cell_type": "markdown",
      "metadata": {
        "id": "view-in-github",
        "colab_type": "text"
      },
      "source": [
        "<a href=\"https://colab.research.google.com/github/Vibenshus-Gymnasium-Pro/assignment-1-Jotaro3TP/blob/main/4%2C8.ipynb\" target=\"_parent\"><img src=\"https://colab.research.google.com/assets/colab-badge.svg\" alt=\"Open In Colab\"/></a>"
      ]
    },
    {
      "cell_type": "code",
      "execution_count": null,
      "metadata": {
        "colab": {
          "base_uri": "https://localhost:8080/"
        },
        "id": "azrKgeUX1hrl",
        "outputId": "5bf131a5-5408-4815-9abf-3a9ab04ebe42"
      },
      "outputs": [
        {
          "output_type": "stream",
          "name": "stdout",
          "text": [
            "[1, 8, 27, 64, 125, 216, 343, 512, 729, 1000]\n"
          ]
        }
      ],
      "source": [
        "cubes = []\n",
        "for value in range(1,11):\n",
        "    cube = value**3\n",
        "    cubes.append(cube)\n",
        "\n",
        "print(cubes)\n",
        "\n",
        "\n",
        "\n",
        "\n"
      ]
    }
  ]
}