{
  "nbformat": 4,
  "nbformat_minor": 0,
  "metadata": {
    "colab": {
      "provenance": [],
      "authorship_tag": "ABX9TyP5uzrpV/sQkH6eHg33663Q",
      "include_colab_link": true
    },
    "kernelspec": {
      "name": "python3",
      "display_name": "Python 3"
    },
    "language_info": {
      "name": "python"
    }
  },
  "cells": [
    {
      "cell_type": "markdown",
      "metadata": {
        "id": "view-in-github",
        "colab_type": "text"
      },
      "source": [
        "<a href=\"https://colab.research.google.com/github/Vibenshus-Gymnasium-Pro/assignment-1-Jotaro3TP/blob/main/Arbejdsselv_klasser.ipynb\" target=\"_parent\"><img src=\"https://colab.research.google.com/assets/colab-badge.svg\" alt=\"Open In Colab\"/></a>"
      ]
    },
    {
      "cell_type": "code",
      "execution_count": null,
      "metadata": {
        "id": "5ie6mjjwLDe1"
      },
      "outputs": [],
      "source": [
        "class BankAccount:\n",
        "    \"\"\"Bank Account protected by a pin number.\"\"\"\n",
        "\n",
        "    def __init__(self, pin,amount):\n",
        "        \"\"\"Initial account balance is 0 and pin is 'pin'.\"\"\"\n",
        "        self.amount = 0\n",
        "        self.pin = pin\n",
        "\n",
        "    def deposit(self, pin, amount):\n",
        "        \"\"\"Increment account balance by amount and return new balance.\"\"\"\n",
        "        if pin != self.pin:\n",
        "            print(\"Uncorrect password\")\n",
        "        else:\n",
        "            self.amount += amount\n",
        "            print(\"Cash deposited\")\n",
        "\n",
        "        self.amount += amount\n",
        "        return (print(\"You have\", self.amount, \"dollars in your bankaccount.\"))\n",
        "\n",
        "    def withdraw(self, pin, amount):\n",
        "        \"\"\"Decrement account balance by amount and return amount withdrawn.\"\"\"\n",
        "        if pin != self.pin:\n",
        "            print(\"Uncorrect password\")\n",
        "        else:\n",
        "            self.amount += amount\n",
        "            print(\"Cash deposited\")\n",
        "\n",
        "    def get_balance(self, pin, amount):\n",
        "        \"\"\"Return account balance.\"\"\"\n",
        "        if pin != self.pin:\n",
        "            print(\"Uncorrect password\")\n",
        "        else:\n",
        "            self.amount += amount\n",
        "            print(\"Cash deposited\")\n",
        "    def change_pin(self, oldpin, newpin):\n",
        "        \"\"\"Change pin from oldpin to newpin.\"\"\"\n",
        "\n",
        "josefBank = BankAccount(1234,0)\n",
        "\n",
        "\n",
        "\n",
        "josefBank.deposit(124,100)"
      ]
    }
  ]
}