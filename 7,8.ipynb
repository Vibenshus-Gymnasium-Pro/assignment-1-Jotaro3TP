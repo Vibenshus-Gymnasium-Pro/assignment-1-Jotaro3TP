{
  "nbformat": 4,
  "nbformat_minor": 0,
  "metadata": {
    "colab": {
      "provenance": [],
      "collapsed_sections": [],
      "authorship_tag": "ABX9TyMMWVGbtg77Q6H5/s0FxmCF",
      "include_colab_link": true
    },
    "kernelspec": {
      "name": "python3",
      "display_name": "Python 3"
    },
    "language_info": {
      "name": "python"
    }
  },
  "cells": [
    {
      "cell_type": "markdown",
      "metadata": {
        "id": "view-in-github",
        "colab_type": "text"
      },
      "source": [
        "<a href=\"https://colab.research.google.com/github/Vibenshus-Gymnasium-Pro/assignment-1-Jotaro3TP/blob/main/7%2C8.ipynb\" target=\"_parent\"><img src=\"https://colab.research.google.com/assets/colab-badge.svg\" alt=\"Open In Colab\"/></a>"
      ]
    },
    {
      "cell_type": "code",
      "execution_count": 15,
      "metadata": {
        "id": "7zW9MnVwyIIc",
        "colab": {
          "base_uri": "https://localhost:8080/"
        },
        "outputId": "4b80d7c7-f5fd-45b9-def8-d3d16eba29d0"
      },
      "outputs": [
        {
          "output_type": "stream",
          "name": "stdout",
          "text": [
            "I am working on your tuna, spicy_tuna, avocado, cheesesandwich \n",
            "\n",
            "\n",
            "I am finished with your tuna, spicy_tuna, avocado, cheese combination.\n"
          ]
        }
      ],
      "source": [
        "sandwich = ['tuna, spicy_tuna, avocado, cheese']\n",
        "finished_sandwich = []\n",
        "\n",
        "while sandwich:\n",
        "  current_sandwich = sandwich.pop()\n",
        "  print(\"I am working on your \" + current_sandwich + \"sandwich \")\n",
        "  finished_sandwich.append(current_sandwich)\n",
        "\n",
        "print(\"\\n\")\n",
        "for sandwich in finished_sandwich:\n",
        "    print(\"I am finished with your \" + sandwich + \" combination.\")\n",
        "\n"
      ]
    }
  ]
}